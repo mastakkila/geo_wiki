{
 "cells": [
  {
   "cell_type": "code",
   "execution_count": 52,
   "metadata": {
    "collapsed": false
   },
   "outputs": [
    {
     "name": "stdout",
     "output_type": "stream",
     "text": [
      "346\n"
     ]
    },
    {
     "data": {
      "text/plain": [
       "346"
      ]
     },
     "execution_count": 52,
     "metadata": {},
     "output_type": "execute_result"
    }
   ],
   "source": [
    "import ast\n",
    "import requests\n",
    "import numpy as np\n",
    "\n",
    "def get_pages(lat, lon):\n",
    "    result = requests.get(\"https://ru.wikipedia.org/w/api.php?action=query&format=json&list=geosearch&gscoord=\" + str(lat) + \"%7C\" + str(lon) + \"&gsradius=2500&gslimit=10000\")\n",
    "    json = ast.literal_eval(result.content)\n",
    "    print len(json['query']['geosearch'])\n",
    "    return json['query']['geosearch']\n",
    "\n",
    "    \n",
    "# print len(json['query']['geosearch'])\n",
    "# 49.358876, 31.484267 ukrane center\n",
    "main_set = {}\n",
    "\n",
    "for i in get_pages(50.450693, 30.497644):\n",
    "    main_set[i['pageid']] = i\n",
    "\n",
    "len(main_set)"
   ]
  },
  {
   "cell_type": "code",
   "execution_count": 53,
   "metadata": {
    "collapsed": false
   },
   "outputs": [
    {
     "name": "stdout",
     "output_type": "stream",
     "text": [
      "3\n",
      "2\n",
      "2\n",
      "1\n",
      "1\n",
      "2\n",
      "1\n",
      "0\n",
      "0\n",
      "0\n",
      "0\n",
      "0\n",
      "0\n",
      "3\n",
      "0\n",
      "2\n",
      "1\n",
      "2\n",
      "1\n",
      "4\n",
      "3\n",
      "0\n",
      "0\n",
      "0\n",
      "1\n",
      "0\n",
      "2\n",
      "1\n",
      "3\n",
      "5\n",
      "15\n",
      "9\n",
      "10\n",
      "3\n",
      "1\n",
      "0\n",
      "3\n",
      "0\n",
      "0\n",
      "1\n",
      "2\n",
      "3\n",
      "7\n",
      "20\n",
      "35\n",
      "37\n",
      "13\n",
      "8\n",
      "15\n",
      "6\n",
      "0\n",
      "2\n",
      "2\n",
      "7\n",
      "22\n",
      "28\n",
      "58\n",
      "180\n",
      "224\n",
      "77\n",
      "43\n",
      "23\n",
      "8\n",
      "1\n",
      "1\n",
      "1\n",
      "34\n",
      "56\n",
      "48\n",
      "81\n",
      "215\n",
      "145\n",
      "30\n",
      "30\n",
      "10\n",
      "1\n",
      "1\n",
      "2\n",
      "2\n",
      "2\n",
      "5\n",
      "20\n",
      "24\n",
      "24\n",
      "8\n",
      "15\n",
      "15\n",
      "1\n",
      "0\n",
      "0\n",
      "2\n",
      "3\n",
      "6\n",
      "0\n",
      "0\n",
      "2\n",
      "0\n",
      "1\n",
      "0\n",
      "3\n",
      "1\n",
      "1\n",
      "0\n",
      "0\n"
     ]
    },
    {
     "data": {
      "text/plain": [
       "1063"
      ]
     },
     "execution_count": 53,
     "metadata": {},
     "output_type": "execute_result"
    }
   ],
   "source": [
    "lat1, long1 = 50.27, 30.30\n",
    "lat2, long2 = 50.57, 30.81\n",
    "\n",
    "main_set = {}\n",
    "\n",
    "for lat in np.arange(lat1, lat2, 0.04):\n",
    "    for lon in np.arange(long1, long2, 0.04):\n",
    "        for i in get_pages(lat, lon):\n",
    "            if i['pageid'] not in main_set:\n",
    "                main_set[i['pageid']] = i\n",
    "            \n",
    "len(main_set)\n",
    "            "
   ]
  },
  {
   "cell_type": "code",
   "execution_count": null,
   "metadata": {
    "collapsed": true
   },
   "outputs": [],
   "source": []
  }
 ],
 "metadata": {
  "kernelspec": {
   "display_name": "Python 2",
   "language": "python",
   "name": "python2"
  },
  "language_info": {
   "codemirror_mode": {
    "name": "ipython",
    "version": 2
   },
   "file_extension": ".py",
   "mimetype": "text/x-python",
   "name": "python",
   "nbconvert_exporter": "python",
   "pygments_lexer": "ipython2",
   "version": "2.7.11"
  }
 },
 "nbformat": 4,
 "nbformat_minor": 0
}
