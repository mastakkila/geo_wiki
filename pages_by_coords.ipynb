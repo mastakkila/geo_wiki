{
 "cells": [
  {
   "cell_type": "code",
   "execution_count": 34,
   "metadata": {
    "collapsed": false
   },
   "outputs": [
    {
     "name": "stdout",
     "output_type": "stream",
     "text": [
      "419\n"
     ]
    }
   ],
   "source": [
    "import ast\n",
    "import requests\n",
    "\n",
    "result = requests.get(\"https://ru.wikipedia.org/w/api.php?action=query&format=json&list=geosearch&gscoord=50.450693%7C30.497644&gsradius=3000&gslimit=600\")\n",
    "json = ast.literal_eval(result.content)\n",
    "\n",
    "print len(json['query']['geosearch'])\n",
    "# 49.358876, 31.484267 ukrane center"
   ]
  },
  {
   "cell_type": "code",
   "execution_count": null,
   "metadata": {
    "collapsed": true
   },
   "outputs": [],
   "source": []
  }
 ],
 "metadata": {
  "kernelspec": {
   "display_name": "Python 2",
   "language": "python",
   "name": "python2"
  },
  "language_info": {
   "codemirror_mode": {
    "name": "ipython",
    "version": 2
   },
   "file_extension": ".py",
   "mimetype": "text/x-python",
   "name": "python",
   "nbconvert_exporter": "python",
   "pygments_lexer": "ipython2",
   "version": "2.7.11"
  }
 },
 "nbformat": 4,
 "nbformat_minor": 0
}
