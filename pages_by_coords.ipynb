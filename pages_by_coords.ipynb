{
 "cells": [
  {
   "cell_type": "code",
   "execution_count": 56,
   "metadata": {
    "collapsed": false
   },
   "outputs": [
    {
     "data": {
      "text/plain": [
       "346"
      ]
     },
     "execution_count": 56,
     "metadata": {},
     "output_type": "execute_result"
    }
   ],
   "source": [
    "import ast\n",
    "import requests\n",
    "import numpy as np\n",
    "\n",
    "def get_pages(lat, lon):\n",
    "    result = requests.get(\"https://ru.wikipedia.org/w/api.php?action=query&format=json&list=geosearch&gscoord=\" + str(lat) + \"%7C\" + str(lon) + \"&gsradius=2500&gslimit=10000\")\n",
    "    json = ast.literal_eval(result.content)\n",
    "#     print len(json['query']['geosearch'])\n",
    "    return json['query']['geosearch']\n",
    "\n",
    "    \n",
    "# print len(json['query']['geosearch'])\n",
    "# 49.358876, 31.484267 ukrane center\n",
    "main_set = {}\n",
    "\n",
    "for i in get_pages(50.450693, 30.497644):\n",
    "    main_set[i['pageid']] = i\n",
    "\n",
    "len(main_set)"
   ]
  },
  {
   "cell_type": "code",
   "execution_count": null,
   "metadata": {
    "collapsed": false
   },
   "outputs": [],
   "source": [
    "# kiev\n",
    "lat1, long1 = 50.27, 30.30\n",
    "lat2, long2 = 50.57, 30.81\n",
    "\n",
    "# full ukraine\n",
    "# lat1, long1 = 46.33, 23.22\n",
    "# lat2, long2 = 52.94, 39.20\n",
    "\n",
    "main_set = {}\n",
    "\n",
    "for lat in np.arange(lat1, lat2, 0.05):\n",
    "    print lat\n",
    "    for lon in np.arange(long1, long2, 0.05):\n",
    "        for i in get_pages(lat, lon):\n",
    "            if i['pageid'] not in main_set:\n",
    "                main_set[i['pageid']] = i\n",
    "            \n",
    "\n",
    "            "
   ]
  }
 ],
 "metadata": {
  "kernelspec": {
   "display_name": "Python 2",
   "language": "python",
   "name": "python2"
  },
  "language_info": {
   "codemirror_mode": {
    "name": "ipython",
    "version": 2
   },
   "file_extension": ".py",
   "mimetype": "text/x-python",
   "name": "python",
   "nbconvert_exporter": "python",
   "pygments_lexer": "ipython2",
   "version": "2.7.11"
  }
 },
 "nbformat": 4,
 "nbformat_minor": 0
}
