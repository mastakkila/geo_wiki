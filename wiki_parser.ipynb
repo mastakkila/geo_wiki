{
 "cells": [
  {
   "cell_type": "code",
   "execution_count": 43,
   "metadata": {
    "collapsed": true
   },
   "outputs": [],
   "source": [
    "import requests\n",
    "import json\n",
    "import wikipedia as wk\n",
    "import csv"
   ]
  },
  {
   "cell_type": "code",
   "execution_count": null,
   "metadata": {
    "collapsed": true
   },
   "outputs": [],
   "source": []
  },
  {
   "cell_type": "code",
   "execution_count": 47,
   "metadata": {
    "collapsed": false
   },
   "outputs": [],
   "source": [
    "def get_revisions_by_pageid(pageid, title=None, coordinates=None):\n",
    "    headers = {'content-type': 'text/mediawiki-api-prettyprint-wrapped; charset=utf-8'}\n",
    "    url = 'https://en.wikipedia.org/w/api.php'\n",
    "    params = {\n",
    "        'action': 'query', \n",
    "        'format': 'json', \n",
    "        'prop': 'revisions', \n",
    "        'pageids': pageid,\n",
    "        'rvprop': 'timestamp|ids|comment',\n",
    "        'rvlimit': 5\n",
    "    }\n",
    "\n",
    "    req = requests.post(url, params=params, headers=headers)\n",
    "\n",
    "    revs = req.json()['query']['pages'][str(pageid)]['revisions']\n",
    "\n",
    "    for rev in revs:\n",
    "        rev['title'] = title\n",
    "        rev['pageid'] = pageid\n",
    "        rev['coordinates'] = coordinates\n",
    "\n",
    "    return revs\n",
    "\n",
    "def to_csv(_json):\n",
    "    f = csv.writer(open(\"test.csv\", \"wb+\"))\n",
    "\n",
    "    # Write CSV Header, If you dont need that, remove this line\n",
    "    _headers = [\"pageid\", \"title\", \"coordinates\", \"timestamp\", \"revid\", \"comment\"]\n",
    "    f.writerow(_headers)\n",
    "\n",
    "    i = 0\n",
    "    for x in _json:\n",
    "        row = [x[h] for h in _headers]\n",
    "        \n",
    "        if i % 100 == 0:\n",
    "            print(\"Progress: %s\" % i)\n",
    "        f.writerow(row)\n",
    "        i += 1\n",
    "\n",
    "#action=query&format=json&prop=revisions&pageids&rvprop=timestamp%7Cuser%7Ccomment%7Ccontent"
   ]
  },
  {
   "cell_type": "code",
   "execution_count": 48,
   "metadata": {
    "collapsed": false
   },
   "outputs": [
    {
     "name": "stdout",
     "output_type": "stream",
     "text": [
      "Progress: 0\n"
     ]
    }
   ],
   "source": [
    "j = get_revisions_by_pageid(1000)\n",
    "to_csv(j)"
   ]
  },
  {
   "cell_type": "code",
   "execution_count": 46,
   "metadata": {
    "collapsed": false
   },
   "outputs": [
    {
     "name": "stdout",
     "output_type": "stream",
     "text": [
      "[1000, None, None, u'2016-02-26T05:39:04Z', 706953291, u'']\n",
      "[1000, None, None, u'2016-02-13T03:01:12Z', 704709963, u'/* David Suchet */']\n",
      "[1000, None, None, u'2016-02-13T02:58:14Z', 704709611, u'/* Policeman */ Fixed typo']\n",
      "[1000, None, None, u'2016-02-13T02:54:22Z', 704709152, u'/* Policeman */']\n",
      "[1000, None, None, u'2016-02-13T02:51:48Z', 704708881, u'/* Policeman */ Corrected style']\n"
     ]
    }
   ],
   "source": []
  },
  {
   "cell_type": "code",
   "execution_count": null,
   "metadata": {
    "collapsed": true
   },
   "outputs": [],
   "source": []
  }
 ],
 "metadata": {
  "kernelspec": {
   "display_name": "Python 2",
   "language": "python",
   "name": "python2"
  },
  "language_info": {
   "codemirror_mode": {
    "name": "ipython",
    "version": 2
   },
   "file_extension": ".py",
   "mimetype": "text/x-python",
   "name": "python",
   "nbconvert_exporter": "python",
   "pygments_lexer": "ipython2",
   "version": "2.7.11"
  }
 },
 "nbformat": 4,
 "nbformat_minor": 0
}
