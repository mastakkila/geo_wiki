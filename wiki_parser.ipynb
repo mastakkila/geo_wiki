{
 "cells": [
  {
   "cell_type": "code",
   "execution_count": 104,
   "metadata": {
    "collapsed": true
   },
   "outputs": [],
   "source": [
    "import requests\n",
    "import json\n",
    "import wikipedia as wk\n",
    "import csv\n",
    "\n",
    "import ast\n",
    "import numpy as np"
   ]
  },
  {
   "cell_type": "code",
   "execution_count": 121,
   "metadata": {
    "collapsed": false
   },
   "outputs": [],
   "source": [
    "\n",
    "def get_revisions_by_pageid(pageid, title=None, lat=None, lon=None):\n",
    "    headers = {'content-type': 'text/mediawiki-api-prettyprint-wrapped; charset=utf-8'}\n",
    "    url = 'https://en.wikipedia.org/w/api.php'\n",
    "    params = {\n",
    "        'action': 'query', \n",
    "        'format': 'json', \n",
    "        'prop': 'revisions', \n",
    "        'pageids': pageid,\n",
    "        'rvprop': 'timestamp|ids|comment',\n",
    "        'rvlimit': 500\n",
    "    }\n",
    "\n",
    "    req = requests.post(url, params=params, headers=headers)\n",
    "\n",
    "    revs = req.json()['query']['pages'][str(pageid)]['revisions']\n",
    "\n",
    "    for rev in revs:\n",
    "        rev['title'] = title\n",
    "        rev['pageid'] = pageid\n",
    "        rev['lat'] = lat\n",
    "        rev['lon'] = lon\n",
    "\n",
    "    return revs\n",
    "\n",
    "def get_revisions_by_page(page):\n",
    "    return get_revisions_by_pageid(page['pageid'], page['title'], page['lat'], page['lon'])\n",
    "\n",
    "def to_csv(_json, file_name):\n",
    "    f = csv.writer(open(file_name, \"wb+\"))\n",
    "\n",
    "    # Write CSV Header, If you dont need that, remove this line\n",
    "    _headers = [\"pageid\", \"title\", \"lat\", \"lon\", \"timestamp\", \"revid\"]\n",
    "    f.writerow(_headers)\n",
    "\n",
    "    i = 0\n",
    "    def to_utf(t):\n",
    "        if isinstance(t, basestring):\n",
    "            return t.encode('utf-8')\n",
    "        else:\n",
    "            return t\n",
    "    \n",
    "    for x in _json:\n",
    "        row = [to_utf(x[h]) for h in _headers]\n",
    "        \n",
    "        if i % 100 == 0:\n",
    "            print(\"Progress: %s\" % i)\n",
    "        f.writerow(row)\n",
    "        i += 1\n",
    "\n",
    "def get_pages_in_radius(lat, lon, radius=2500):\n",
    "    headers = {'content-type': 'text/mediawiki-api-prettyprint-wrapped; charset=utf-8'}\n",
    "    url = 'https://en.wikipedia.org/w/api.php'\n",
    "    params = {\n",
    "        'action': 'query', \n",
    "        'format': 'json', \n",
    "        'list': 'geosearch', \n",
    "        'gscoord': str(lat) + \"|\" + str(lon),\n",
    "        'gsradius': radius,\n",
    "        'gslimit': 10000\n",
    "    }\n",
    "\n",
    "    req = requests.post(url, params=params, headers=headers)\n",
    "\n",
    "    revs = req.json()['query']['geosearch']\n",
    "\n",
    "    result = [\n",
    "        {\n",
    "            'pageid': rev['pageid'],\n",
    "            'lat': rev['lat'],\n",
    "            'lon': rev['lon'],\n",
    "            'title': rev['title'],\n",
    "        } for rev in revs\n",
    "    ]\n",
    "    return result\n",
    "\n",
    "\n",
    "def get_pages_in_area():\n",
    "    lat1, long1 = 50.27, 30.30\n",
    "    lat2, long2 = 50.57, 30.81\n",
    "\n",
    "    main_set = {}\n",
    "\n",
    "    count = 0\n",
    "    new_count = 0\n",
    "    for lat in np.arange(lat1, lat2, 0.04):\n",
    "        for lon in np.arange(long1, long2, 0.04):\n",
    "            _p = get_pages_in_radius(lat, lon)\n",
    "            for i in _p:\n",
    "                if count != 0 and count % 100 == 0:\n",
    "                    print(\"Area search: %s / %s\" % (new_count, count))\n",
    "\n",
    "                if i['pageid'] not in main_set:\n",
    "                    main_set[i['pageid']] = i\n",
    "                    new_count += 1\n",
    "                \n",
    "                count += 1\n",
    "    print(\"Area pages found: %s\" % len(main_set.values()))\n",
    "    return main_set.values()"
   ]
  },
  {
   "cell_type": "code",
   "execution_count": null,
   "metadata": {
    "collapsed": false
   },
   "outputs": [
    {
     "name": "stdout",
     "output_type": "stream",
     "text": [
      "Area search: 68 / 100\n",
      "Area search: 153 / 200\n",
      "Area search: 201 / 300\n",
      "Area search: 272 / 400"
     ]
    }
   ],
   "source": [
    "pages = get_pages_in_area()\n",
    "\n",
    "print(\"Pages found: %s\" % len(pages))\n",
    "revs = []\n",
    "\n",
    "i = 0\n",
    "for p in pages:\n",
    "    if i != 0 and i % 10 ==0:\n",
    "        print(\"Progress revisions: %s\" %i)\n",
    "    new_revs = list(get_revisions_by_page(p))\n",
    "    \n",
    "    for r in new_revs:\n",
    "        revs.append(r)\n",
    "    i += 1\n",
    "    \n",
    "print('Finish! Total revisions: %s' % len(revs))"
   ]
  },
  {
   "cell_type": "code",
   "execution_count": 103,
   "metadata": {
    "collapsed": false
   },
   "outputs": [
    {
     "name": "stdout",
     "output_type": "stream",
     "text": [
      "Progress: 0\n",
      "Progress: 100\n",
      "Progress: 200\n",
      "Progress: 300\n",
      "Progress: 400\n",
      "Progress: 500\n",
      "Progress: 600\n",
      "Progress: 700\n",
      "Progress: 800\n",
      "Progress: 900\n",
      "Progress: 1000\n",
      "Progress: 1100\n",
      "Progress: 1200\n",
      "Progress: 1300\n",
      "Progress: 1400\n"
     ]
    }
   ],
   "source": [
    "to_csv(revs, 'results_v3.csv')"
   ]
  },
  {
   "cell_type": "code",
   "execution_count": null,
   "metadata": {
    "collapsed": true
   },
   "outputs": [],
   "source": []
  }
 ],
 "metadata": {
  "kernelspec": {
   "display_name": "Python 2",
   "language": "python",
   "name": "python2"
  },
  "language_info": {
   "codemirror_mode": {
    "name": "ipython",
    "version": 2
   },
   "file_extension": ".py",
   "mimetype": "text/x-python",
   "name": "python",
   "nbconvert_exporter": "python",
   "pygments_lexer": "ipython2",
   "version": "2.7.11"
  }
 },
 "nbformat": 4,
 "nbformat_minor": 0
}
