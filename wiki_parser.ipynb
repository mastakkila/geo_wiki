{
 "cells": [
  {
   "cell_type": "code",
   "execution_count": 3,
   "metadata": {
    "collapsed": true
   },
   "outputs": [],
   "source": [
    "import requests\n",
    "import json\n",
    "import wikipedia as wk"
   ]
  },
  {
   "cell_type": "code",
   "execution_count": null,
   "metadata": {
    "collapsed": true
   },
   "outputs": [],
   "source": []
  },
  {
   "cell_type": "code",
   "execution_count": 41,
   "metadata": {
    "collapsed": false
   },
   "outputs": [],
   "source": [
    "def get_revisions_by_pageid(pageid, title=None, coordinates=None):\n",
    "    headers = {'content-type': 'text/mediawiki-api-prettyprint-wrapped; charset=utf-8'}\n",
    "    url = 'https://en.wikipedia.org/w/api.php'\n",
    "    params = {\n",
    "        'action': 'query', \n",
    "        'format': 'json', \n",
    "        'prop': 'revisions', \n",
    "        'pageids': pageid,\n",
    "        'rvprop': 'timestamp|ids|comment',\n",
    "        'rvlimit': 5\n",
    "    }\n",
    "\n",
    "    req = requests.post(url, params=params, headers=headers)\n",
    "\n",
    "    revs = req.json()['query']['pages'][str(pageid)]['revisions']\n",
    "\n",
    "    for rev in revs:\n",
    "        rev['title'] = title\n",
    "        rev['pageid'] = pageid\n",
    "        rev['coordinates'] = coordinates\n",
    "\n",
    "    return revs\n",
    "\n",
    "\n",
    "\n",
    "#action=query&format=json&prop=revisions&pageids&rvprop=timestamp%7Cuser%7Ccomment%7Ccontent"
   ]
  },
  {
   "cell_type": "code",
   "execution_count": 42,
   "metadata": {
    "collapsed": false
   },
   "outputs": [
    {
     "data": {
      "text/plain": [
       "[{u'comment': u'',\n",
       "  'coordinates': None,\n",
       "  'pageid': 1000,\n",
       "  u'parentid': 704709963,\n",
       "  u'revid': 706953291,\n",
       "  u'timestamp': u'2016-02-26T05:39:04Z',\n",
       "  'title': None},\n",
       " {u'comment': u'/* David Suchet */',\n",
       "  'coordinates': None,\n",
       "  'pageid': 1000,\n",
       "  u'parentid': 704709611,\n",
       "  u'revid': 704709963,\n",
       "  u'timestamp': u'2016-02-13T03:01:12Z',\n",
       "  'title': None},\n",
       " {u'comment': u'/* Policeman */ Fixed typo',\n",
       "  'coordinates': None,\n",
       "  'pageid': 1000,\n",
       "  u'parentid': 704709152,\n",
       "  u'revid': 704709611,\n",
       "  u'timestamp': u'2016-02-13T02:58:14Z',\n",
       "  'title': None},\n",
       " {u'comment': u'/* Policeman */',\n",
       "  'coordinates': None,\n",
       "  'pageid': 1000,\n",
       "  u'parentid': 704708881,\n",
       "  u'revid': 704709152,\n",
       "  u'timestamp': u'2016-02-13T02:54:22Z',\n",
       "  'title': None},\n",
       " {u'comment': u'/* Policeman */ Corrected style',\n",
       "  'coordinates': None,\n",
       "  'pageid': 1000,\n",
       "  u'parentid': 704708532,\n",
       "  u'revid': 704708881,\n",
       "  u'timestamp': u'2016-02-13T02:51:48Z',\n",
       "  'title': None}]"
      ]
     },
     "execution_count": 42,
     "metadata": {},
     "output_type": "execute_result"
    }
   ],
   "source": [
    "get_revisions_by_pageid(1000)"
   ]
  },
  {
   "cell_type": "code",
   "execution_count": null,
   "metadata": {
    "collapsed": true
   },
   "outputs": [],
   "source": []
  }
 ],
 "metadata": {
  "kernelspec": {
   "display_name": "Python 2",
   "language": "python",
   "name": "python2"
  },
  "language_info": {
   "codemirror_mode": {
    "name": "ipython",
    "version": 2
   },
   "file_extension": ".py",
   "mimetype": "text/x-python",
   "name": "python",
   "nbconvert_exporter": "python",
   "pygments_lexer": "ipython2",
   "version": "2.7.11"
  }
 },
 "nbformat": 4,
 "nbformat_minor": 0
}
