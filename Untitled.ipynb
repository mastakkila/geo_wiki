{
 "cells": [
  {
   "cell_type": "code",
   "execution_count": 3,
   "metadata": {
    "collapsed": true
   },
   "outputs": [],
   "source": [
    "import requests\n",
    "import json\n",
    "import wikipedia as wk"
   ]
  },
  {
   "cell_type": "code",
   "execution_count": null,
   "metadata": {
    "collapsed": true
   },
   "outputs": [],
   "source": []
  },
  {
   "cell_type": "code",
   "execution_count": 26,
   "metadata": {
    "collapsed": false
   },
   "outputs": [],
   "source": [
    "\n",
    "def get_revisions_by_pageid(pageid, title=None, coordinates=None)\n",
    "    headers = {'content-type': 'text/mediawiki-api-prettyprint-wrapped; charset=utf-8'}\n",
    "    url = 'https://en.wikipedia.org/w/api.php'\n",
    "    params = {\n",
    "        'action': 'query', \n",
    "        'format': 'json', \n",
    "        'prop': 'revisions', \n",
    "        'pageids': pageid,\n",
    "        'rvprop': 'timestamp|ids|comment',\n",
    "        'rvlimit': 5\n",
    "    }\n",
    "\n",
    "    req = requests.post(url, params=params, headers=headers)\n",
    "\n",
    "    revs = req.json()['query']['pages']['10000']['revisions']\n",
    "\n",
    "    for rev in revs:\n",
    "        rev['title'] = title\n",
    "        rev['pageid'] = pageid\n",
    "        rev['']\n",
    "\n",
    "    return result\n",
    "\n",
    "#action=query&format=json&prop=revisions&pageids&rvprop=timestamp%7Cuser%7Ccomment%7Ccontent"
   ]
  },
  {
   "cell_type": "code",
   "execution_count": 28,
   "metadata": {
    "collapsed": false
   },
   "outputs": [
    {
     "data": {
      "text/plain": [
       "[{u'comment': u'clean up using [[Project:AWB|AWB]]',\n",
       "  u'parentid': 677124122,\n",
       "  u'revid': 682940733,\n",
       "  u'timestamp': u'2015-09-27T02:15:21Z'},\n",
       " {u'comment': u'Reverted edits by [[Special:Contribs/Super-Random123|Super-Random123]] ([[User talk:Super-Random123|talk]]) to last version by Widefox',\n",
       "  u'parentid': 676354628,\n",
       "  u'revid': 677124122,\n",
       "  u'timestamp': u'2015-08-21T08:07:31Z'},\n",
       " {u'comment': u'Fixed typo',\n",
       "  u'parentid': 675663859,\n",
       "  u'revid': 676354628,\n",
       "  u'timestamp': u'2015-08-16T12:48:48Z'},\n",
       " {u'comment': u'tidy per MOSDAB',\n",
       "  u'parentid': 675634251,\n",
       "  u'revid': 675663859,\n",
       "  u'timestamp': u'2015-08-11T22:39:58Z'},\n",
       " {u'comment': u'put [[WP:PTM]] in see also per [[WP:MOSDAB]]',\n",
       "  u'parentid': 674055718,\n",
       "  u'revid': 675634251,\n",
       "  u'timestamp': u'2015-08-11T19:21:29Z'}]"
      ]
     },
     "execution_count": 28,
     "metadata": {},
     "output_type": "execute_result"
    }
   ],
   "source": [
    "result.json()['query']['pages']['10000']['revisions']"
   ]
  },
  {
   "cell_type": "code",
   "execution_count": null,
   "metadata": {
    "collapsed": true
   },
   "outputs": [],
   "source": []
  }
 ],
 "metadata": {
  "kernelspec": {
   "display_name": "Python 2",
   "language": "python",
   "name": "python2"
  },
  "language_info": {
   "codemirror_mode": {
    "name": "ipython",
    "version": 2
   },
   "file_extension": ".py",
   "mimetype": "text/x-python",
   "name": "python",
   "nbconvert_exporter": "python",
   "pygments_lexer": "ipython2",
   "version": "2.7.11"
  }
 },
 "nbformat": 4,
 "nbformat_minor": 0
}
